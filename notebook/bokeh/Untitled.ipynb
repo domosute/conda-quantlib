{
 "cells": [
  {
   "cell_type": "code",
   "execution_count": 1,
   "id": "c72e1b08-d42e-4bcf-9d25-c1d6e33356ca",
   "metadata": {},
   "outputs": [],
   "source": [
    "from random import random\n",
    "\n",
    "from bokeh.layouts import column\n",
    "from bokeh.models import Button\n",
    "from bokeh.palettes import RdYlBu3\n",
    "from bokeh.plotting import figure, curdoc\n",
    "\n",
    "# create a plot and style its properties\n",
    "p = figure(x_range=(0, 100), y_range=(0, 100), toolbar_location=None)\n",
    "p.border_fill_color = 'black'\n",
    "p.background_fill_color = 'black'\n",
    "p.outline_line_color = None\n",
    "p.grid.grid_line_color = None\n",
    "\n",
    "# add a text renderer to the plot (no data yet)\n",
    "r = p.text(x=[], y=[], text=[], text_color=[], text_font_size=\"26px\",\n",
    "           text_baseline=\"middle\", text_align=\"center\")\n",
    "\n",
    "i = 0\n",
    "\n",
    "ds = r.data_source\n",
    "\n",
    "# create a callback that adds a number in a random location\n",
    "def callback():\n",
    "    global i\n",
    "\n",
    "    # BEST PRACTICE --- update .data in one step with a new dict\n",
    "    new_data = dict()\n",
    "    new_data['x'] = ds.data['x'] + [random()*70 + 15]\n",
    "    new_data['y'] = ds.data['y'] + [random()*70 + 15]\n",
    "    new_data['text_color'] = ds.data['text_color'] + [RdYlBu3[i%3]]\n",
    "    new_data['text'] = ds.data['text'] + [str(i)]\n",
    "    ds.data = new_data\n",
    "\n",
    "    i = i + 1\n",
    "\n",
    "# add a button widget and configure with the call back\n",
    "button = Button(label=\"Press Me\")\n",
    "button.on_click(callback)\n",
    "\n",
    "# put the button and plot in a layout and add to the document\n",
    "curdoc().add_root(column(button, p))"
   ]
  },
  {
   "cell_type": "code",
   "execution_count": null,
   "id": "208fa290-e032-4388-8988-54166e46a7a0",
   "metadata": {},
   "outputs": [],
   "source": []
  }
 ],
 "metadata": {
  "kernelspec": {
   "display_name": "Python 3 (ipykernel)",
   "language": "python",
   "name": "python3"
  },
  "language_info": {
   "codemirror_mode": {
    "name": "ipython",
    "version": 3
   },
   "file_extension": ".py",
   "mimetype": "text/x-python",
   "name": "python",
   "nbconvert_exporter": "python",
   "pygments_lexer": "ipython3",
   "version": "3.9.12"
  }
 },
 "nbformat": 4,
 "nbformat_minor": 5
}
