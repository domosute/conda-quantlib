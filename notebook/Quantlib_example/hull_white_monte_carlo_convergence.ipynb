{
 "cells": [
  {
   "cell_type": "markdown",
   "metadata": {},
   "source": [
    "# Thoughts on the Convergence of Hull-White Model Monte-Carlo Simulations\n",
    "[Gouthaman Balaraman](http://gouthamanbalaraman.com)"
   ]
  },
  {
   "cell_type": "markdown",
   "metadata": {},
   "source": [
    "I had recently written an introductory post on [simulating short rates in the Hull-White Model](http://gouthamanbalaraman.com/blog/hull-white-simulation-quantlib-python.html). This [question on the QuantLib forum](http://quantlib.10058.n7.nabble.com/Matching-results-between-HW-tree-and-simulation-models-td16399.html) raised some interesting questions on the convergence of the Hull-White model simulations. In this post, I discuss the convergence of Monte-Carlo simulations using the Hull-White model.\n",
    "\n",
    "The Hull-White Short Rate Model is defined as:\n",
    "\n",
    "$$ dr_t = (\\theta(t) - a r_t)dt + \\sigma dW_t $$,\n",
    "      \n",
    "where $a$ and $\\sigma $ are constants, and $\\theta(t)$ is\n",
    "chosen in order to fit the input term structure of interest rates.\n",
    "Here we use QuantLib to show how to simulate the Hull-White model\n",
    "and investigate some of the properties."
   ]
  },
  {
   "cell_type": "markdown",
   "metadata": {},
   "source": [
    "The variables used in this post are described below: \n",
    "- `timestep` is the number of steps used to discretize the time grid\n",
    "- `hw_process` the object that defines the Hull-White process, \n",
    "- `length` is the time span of the simulation in years\n",
    "- `low_discrepancy` is a boolean variable that is used to chose `Sobol` low discrepancy random or not\n",
    "- `brownnian_bridge` is a boolean that choses brownian bridge for path generation \n",
    "- `num_paths` is the number of paths in the simulation\n",
    "- `a` is the constant parameter in the Hull-White model\n",
    "- `sigma` is the constant parameter $\\sigma$ in the Hull-White model that describes volatility"
   ]
  },
  {
   "cell_type": "code",
   "execution_count": null,
   "metadata": {},
   "outputs": [],
   "source": [
    "# <!-- collapse=True -->\n",
    "import QuantLib as ql\n",
    "import matplotlib.pyplot as plt\n",
    "import numpy as np\n",
    "from scipy.integrate import simps, cumtrapz, romb\n",
    "% matplotlib inline\n",
    "import math\n",
    "\n",
    "todays_date = ql.Date(15, 1, 2015)\n",
    "ql.Settings.instance().evaluationDate = todays_date"
   ]
  },
  {
   "cell_type": "markdown",
   "metadata": {},
   "source": [
    "The `get_path_generator` function creates the a path generator. This function takes various inputs such as \n"
   ]
  },
  {
   "cell_type": "code",
   "execution_count": null,
   "metadata": {},
   "outputs": [],
   "source": [
    "# <!-- collapse=True -->\n",
    "def get_path_generator(timestep, hw_process, length, \n",
    "                       low_discrepancy=False, brownian_bridge=True):\n",
    "    \"\"\"\n",
    "    Returns a path generator\n",
    "    \"\"\"\n",
    "    if low_discrepancy:\n",
    "        usg = ql.UniformLowDiscrepancySequenceGenerator(timestep)\n",
    "        rng = ql.GaussianLowDiscrepancySequenceGenerator(usg)\n",
    "        seq = ql.GaussianSobolPathGenerator(\n",
    "                hw_process, length, timestep, rng,brownian_bridge)\n",
    "    else:\n",
    "        usg = ql.UniformRandomSequenceGenerator(timestep, ql.UniformRandomGenerator())\n",
    "        rng = ql.GaussianRandomSequenceGenerator(usg)\n",
    "        seq = ql.GaussianPathGenerator(\n",
    "                hw_process, length, timestep, rng, brownian_bridge)\n",
    "    return seq"
   ]
  },
  {
   "cell_type": "markdown",
   "metadata": {},
   "source": [
    "The `generate_paths` function uses the generic path generator produced by the `get_path_generator` function to return a tuple of the array of the points in the time grid and a matrix of the short rates generated."
   ]
  },
  {
   "cell_type": "code",
   "execution_count": 3,
   "metadata": {},
   "outputs": [],
   "source": [
    "# <!-- collapse=True -->\n",
    "def generate_paths(num_paths, timestep, seq):\n",
    "    arr = np.zeros((num_paths, timestep+1))\n",
    "    for i in range(num_paths):\n",
    "        sample_path = seq.next()\n",
    "        path = sample_path.value()\n",
    "        time = [path.time(j) for j in range(len(path))]\n",
    "        value = [path[j] for j in range(len(path))]\n",
    "        arr[i, :] = np.array(value)\n",
    "    return np.array(time), arr"
   ]
  },
  {
   "cell_type": "markdown",
   "metadata": {},
   "source": [
    "The `generate_paths_zero_price` essentially is a wrapper around `generate_path_generator` and `generate_paths` taking all the required raw inputs. This function returns the average of zero prices from all the paths for different points in time. I wrote this out so that I can conveniently change all the required inputs and easily plot the results."
   ]
  },
  {
   "cell_type": "code",
   "execution_count": 4,
   "metadata": {},
   "outputs": [],
   "source": [
    "# <!-- collapse=True -->\n",
    "def generate_paths_zero_price(spot_curve_handle, a, sigma, timestep, length, \n",
    "                              num_paths, avg_grid_array, low_discrepancy=False, \n",
    "                              brownian_bridge=True):\n",
    "    \"\"\"\n",
    "    This function returns a tuple (T_array, F_array), where T_array is the array \n",
    "    of points in the time grid, and F_array is the array of the average of zero \n",
    "    prices observed from the simulation.\n",
    "    \"\"\"\n",
    "    hw_process = ql.HullWhiteProcess(spot_curve_handle, a, sigma)\n",
    "    seq = get_path_generator(\n",
    "            timestep, hw_process, length, low_discrepancy, brownian_bridge\n",
    "    )\n",
    "    time, paths = generate_paths(num_paths, timestep, seq)\n",
    "    avgs = [(time[j],(np.mean([math.exp(-simps(paths[i][0:j], time[0:j])) \n",
    "                               for i in range(num_paths)]))) \n",
    "            for j in avg_grid_array\n",
    "            ]\n",
    "    return zip(*avgs)\n",
    "\n",
    "def generate_paths_discount_factors(spot_curve_handle, a, sigma, timestep, length, \n",
    "                              num_paths, avg_grid_array, low_discrepancy=False, \n",
    "                              brownian_bridge=True):\n",
    "    \"\"\"\n",
    "    This function returns a tuple (T_array, S_matrix), where T_array is the array \n",
    "    of points in the time grid, and S_matrix is the matrix of the spot rates for \n",
    "    each path in the different points in the time grid.\n",
    "    \"\"\"\n",
    "    hw_process = ql.HullWhiteProcess(spot_curve_handle, a, sigma)\n",
    "    seq = get_path_generator(\n",
    "            timestep, hw_process, length, low_discrepancy, brownian_bridge\n",
    "    )\n",
    "    time, paths = generate_paths(num_paths, timestep, seq)\n",
    "    arr = np.zeros((num_paths, len(avg_grid_array)))\n",
    "    for i in range(num_paths):\n",
    "        arr[i, :] =  [np.exp(-simps(paths[i][0:j], time[0:j])) for j in avg_grid_array ]\n",
    "    t_array = [time[j] for j in avg_grid_array]\n",
    "    return t_array, arr\n",
    "\n",
    "def V(t,T, a, sigma):\n",
    "    \"\"\" Variance of the integral of short rates, used below\"\"\"\n",
    "    return sigma*sigma/a/a*(T-t + 2.0/a*math.exp(-a*(T-t)) - \n",
    "                            1.0/(2.0*a)*math.exp(-2.0*a*(T-t)) - 3.0/(2.0*a) )\n",
    "    "
   ]
  },
  {
   "cell_type": "markdown",
   "metadata": {},
   "source": [
    "## Factors affecting the convergence \n",
    "\n",
    "In order to understand the convergence of Monte-Carlo for the Hull-White model, let us compare the market discount factor,  \n",
    "\n",
    "$$ P^M(t, T) = \\exp\\left(-\\int_t^Tf^{M} (t,u)du\\right)$$\n",
    "\n",
    "with the expectation of the discount factors from the sample of Monte-Carlo paths,\n",
    "\n",
    "$$P^{MC}(t,T) = E_t\\left\\{ e^{-\\int_t^T r^{MC}(u) du} \\right\\}$$.\n",
    "\n",
    "Here $f^{M}(t, T)$ is the instantaneous forward rate implied by the market, and $r^{MC}(s)$ is the instantaneous short rate from the \n",
    "Monte-Carlo simulations. The error in the Monte-Carlo simulation can be defined as:\n",
    "\n",
    "$$ \\epsilon(T) = P^M(0,T) - P^{MC}(0,T) $$ \n",
    "\n",
    "\n",
    "As a first step, let us look at the plots of $\\epsilon(t)$ for different values of $a$ and $\\sigma$."
   ]
  },
  {
   "cell_type": "code",
   "execution_count": 5,
   "metadata": {},
   "outputs": [
    {
     "data": {
      "image/png": "[encoded data removed]",
      "text/plain": [
       "<matplotlib.figure.Figure at 0x7fea196c7ba8>"
      ]
     },
     "metadata": {},
     "output_type": "display_data"
    }
   ],
   "source": [
    "# <!-- collapse=True -->\n",
    "# Here we vary sigma with fixed a and observe the error epsilon\n",
    "# define constants \n",
    "num_paths = 500\n",
    "sigma_array = np.arange(0.01,0.1,0.03)\n",
    "a = 0.1\n",
    "timestep = 180\n",
    "length = 15 # in years\n",
    "forward_rate = 0.05\n",
    "day_count = ql.Thirty360()\n",
    "avg_grid_array = np.arange(12, timestep+1, 12)\n",
    "\n",
    "# generate spot curve\n",
    "spot_curve = ql.FlatForward(\n",
    "    todays_date, \n",
    "    ql.QuoteHandle(ql.SimpleQuote(forward_rate)), day_count\n",
    ")\n",
    "spot_curve_handle = ql.YieldTermStructureHandle(spot_curve)\n",
    "\n",
    "#initialize plots\n",
    "figure, axis = plt.subplots()\n",
    "plots = []\n",
    "zero_price_theory = np.array([spot_curve.discount(j*float(length)/float(timestep)) \n",
    "                              for j in avg_grid_array])\n",
    "for sigma in sigma_array:\n",
    "    term, zero_price_empirical = generate_paths_zero_price(\n",
    "        spot_curve_handle, a, sigma, timestep, length, num_paths,\n",
    "        avg_grid_array\n",
    "    )\n",
    "    plots += axis.plot(\n",
    "        term, np.abs(zero_price_theory - np.array(zero_price_empirical)),\n",
    "        lw=2, alpha=0.6, \n",
    "        label=\"$\\sigma=$\"+str(sigma)\n",
    "    )\n",
    "\n",
    "# plot legend\n",
    "labels = [p.get_label() for p in plots]\n",
    "legend =axis.legend(plots,labels, loc=0)#, loc=0, bbox_to_anchor=(1.1,0.4))\n",
    "axis.set_xlabel(\"T (years)\", size=12)\n",
    "axis.set_ylabel(\"|$\\epsilon(T)$|\", size=12)\n",
    "axis.set_title(\"Descount Factor Error for $a=$%0.2f and Varying $\\sigma$\"%a, size=14)\n",
    "\n",
    "plt.show()"
   ]
  },
  {
   "cell_type": "markdown",
   "metadata": {},
   "source": [
    "The above plot illustrates that for $\\sigma=0.01$, the Monte-Carlo model shows good convergence, and the convergence gradually deteriorates as $\\sigma$ increases and approaches $a$. "
   ]
  },
  {
   "cell_type": "code",
   "execution_count": 6,
   "metadata": {},
   "outputs": [
    {
     "data": {
      "image/png": "[encoded data removed]",
      "text/plain": [
       "<matplotlib.figure.Figure at 0x7fea196c7be0>"
      ]
     },
     "metadata": {},
     "output_type": "display_data"
    }
   ],
   "source": [
    "# <!-- collapse=True -->\n",
    "# Here we vary a with fixed sigma and observe the error epsilon\n",
    "#define constants\n",
    "num_paths = 500\n",
    "sigma = 0.1\n",
    "a_array = np.arange(0.1, 0.51, 0.1)\n",
    "timestep = 180\n",
    "length = 15 # in years\n",
    "forward_rate = 0.05\n",
    "day_count = ql.Thirty360()\n",
    "avg_grid_array = np.arange(12, timestep+1, 12)\n",
    "\n",
    "# generate spot curve\n",
    "spot_curve = ql.FlatForward(\n",
    "    todays_date,\n",
    "    ql.QuoteHandle(ql.SimpleQuote(forward_rate)), day_count\n",
    ")\n",
    "spot_curve_handle = ql.YieldTermStructureHandle(spot_curve)\n",
    "\n",
    "#initialize plots\n",
    "figure, axis = plt.subplots()\n",
    "plots = []\n",
    "zero_price_theory = np.array([spot_curve.discount(j*float(length)/float(timestep)) \n",
    "                              for j in avg_grid_array])\n",
    "for a in a_array:\n",
    "    term, zero_price_empirical = generate_paths_zero_price(\n",
    "        spot_curve_handle, a, sigma, timestep, length, num_paths,\n",
    "        avg_grid_array\n",
    "    )\n",
    "    plots += axis.plot(\n",
    "        term,np.abs(zero_price_theory - np.array(zero_price_empirical)),  \n",
    "        lw=2, alpha=0.6, \n",
    "        label=\"a=\"+str(a)\n",
    "    )\n",
    "    \n",
    "# plot legend\n",
    "labels = [p.get_label() for p in plots]\n",
    "legend =axis.legend(plots,labels, loc=0)#, loc=0, bbox_to_anchor=(1.1,0.4))\n",
    "axis.set_xlabel(\"T (years)\", size=12)\n",
    "axis.set_ylabel(\"|$\\epsilon(T)$|\", size=12)\n",
    "axis.set_title(\"Discount Factor Error for $\\sigma$=%0.2f and Varying $a$\"%sigma, size=14)\n",
    "\n",
    "plt.show()"
   ]
  },
  {
   "cell_type": "markdown",
   "metadata": {},
   "source": [
    "The above plot illustrates that for $a=0.1$ the convergence of Monte-Carlo is poor, and it gradually improves as $a$ increases more than $\\sigma$.\n",
    "\n",
    "From the plots above, we observe that the convergence is good if the ratio $\\sigma/a < 1$, and the convergence detiorates as the ratio $\\sigma/a$ increases above unity. Now, let us try to formalize this observation from the theoretical footing of the Hull-White model."
   ]
  },
  {
   "cell_type": "markdown",
   "metadata": {},
   "source": [
    "## Distribution of Discount Factors\n",
    "\n",
    "The Monte-Carlo approach estimates the market discount factor as the expectation of discount factors from each Monte-Carlo path. \n",
    "If distribution of discount factors has a standard deviation $\\sigma_D$, then the error in our estimate of $P^{MC}(t,T)$  on using $N$ paths will be of the order of:\n",
    "$$\\epsilon(t,T) \\approx \\frac{\\sigma_D}{\\sqrt(N)}. $$\n",
    "\n",
    "In other words, there are two factors at play in our Monte-Carlo estimate, the number of Monte-Carlo paths $N$ and the standard deviation of the distribution of discount factors $\\sigma$. Using more Monte-Carlo paths will lead to improved convergence. But at the same time, \n",
    "the $\\sigma_D$ has to be relatively small for us to get a good estimate. \n",
    "\n",
    "The integral of short rates can be shown to be normally distributed (refer Brigo-Mercurio, second edition page 75), and is given as \n",
    "$$ \\int_t^T r(u) du | \\mathcal{F}_t \\sim  \\mathcal{N}\\left(B(t,T)[r(t)-\\alpha(t)] + \\ln\\frac{P^M(0,t)}{P^M(0,T)} + \\frac{1}{2}[V(0,T) - V(0,t)], V(t,T)\\right)$$\n",
    "\n",
    "where,\n",
    "\\begin{eqnarray}\n",
    "B(t,T) &=& \\frac{1}{a} \\left[ 1 - e^{-a(T-t)}\\right] \\\\\n",
    "V(t,T) &=& \\frac{\\sigma^2}{a^2}\\left[ T - t + \\frac{2}{a}e^{-a(T-t)} - \\frac{1}{2a}e^{-2a(T-t)} - \\frac{3}{2a}\\right]\n",
    "\\end{eqnarray}\n",
    "\n",
    "Based on this result, the discount factor from the Monte-Carlo simulation of short rates\n",
    "\n",
    "$$ P^{MC}(t, T) = \\exp\\left(- \\int_t^T r(u) du | \\mathcal{F}_t  \\right)$$\n",
    "\n",
    "will have a log-normal distribution with a standard deviation \n",
    "\n",
    "$$ \\sigma_D(t,T) = P^M(t,T)\\sqrt{e^{V(t,T)} -1 }$$\n",
    "\n",
    "This result follows from the fact that if $X$ is a random process with a normal distribution having mean $\\mu$ and standard deviation $\\sigma$, then [log-normal distribution](http://en.wikipedia.org/wiki/Log-normal_distribution) $Y=e^X$ will satisfy:\n",
    "\\begin{eqnarray}\n",
    "E(Y) &=& e^{\\mu+\\sigma^2/2}\\\\\n",
    "Var(Y) &=& (e^{\\sigma^2} -1 )E(Y)^2\n",
    "\\end{eqnarray}\n"
   ]
  },
  {
   "cell_type": "code",
   "execution_count": 7,
   "metadata": {
    "scrolled": true
   },
   "outputs": [
    {
     "data": {
      "image/png": "[encoded data removed]",
      "text/plain": [
       "<matplotlib.figure.Figure at 0x7fea196c7c18>"
      ]
     },
     "metadata": {},
     "output_type": "display_data"
    }
   ],
   "source": [
    "# <!-- collapse=True -->\n",
    "#define constants\n",
    "num_paths = 500\n",
    "sigma = 0.02\n",
    "a = 0.1\n",
    "timestep = 180\n",
    "length = 15 # in years\n",
    "forward_rate = 0.05\n",
    "day_count = ql.Thirty360()\n",
    "avg_grid_array = np.arange(1, timestep+1, 12)\n",
    "\n",
    "# generate spot curve\n",
    "spot_curve = ql.FlatForward(\n",
    "    todays_date,\n",
    "    ql.QuoteHandle(ql.SimpleQuote(forward_rate)), day_count\n",
    ")\n",
    "spot_curve_handle = ql.YieldTermStructureHandle(spot_curve)\n",
    "\n",
    "term, discount_factor_matrix = generate_paths_discount_factors(\n",
    "        spot_curve_handle, a, sigma, timestep, length, num_paths,\n",
    "        avg_grid_array\n",
    "    )\n",
    "\n",
    "vol = [np.var(discount_factor_matrix[:, i]) for i in range(len(term))]\n",
    "l1 = plt.plot(term, 100*np.sqrt(vol),\"b\", lw=2, alpha=0.6,label=\"Empirical\")\n",
    "vol_theory = [100*np.sqrt(math.exp(V(0,T,a, sigma))-1.0) * \n",
    "              spot_curve_handle.discount(T) for T in term]\n",
    "l2 = plt.plot(term, vol_theory,\"r--\", lw=2, alpha=0.6,label=\"Theory\")\n",
    "\n",
    "plots = l1+l2\n",
    "labels = [p.get_label() for p in plots]\n",
    "legend =plt.legend(plots,labels, loc=0)\n",
    "plt.xlabel(\"Time (Years)\", size=12)\n",
    "plt.ylabel(\"$\\sigma_D(0,T)$ (%)\", size=12)\n",
    "plt.title(\"Standard Deviation of Discount Factors \"\n",
    "          \"(a=%0.2f, $\\sigma$=%0.2f)\"%(a, sigma), size=14)\n",
    "plt.show()"
   ]
  },
  {
   "cell_type": "markdown",
   "metadata": {},
   "source": [
    "The plot above compares the standard deviation of the discount factors $\\sigma_D$ from the closed form expression with a Monte-Carlo estimate. The empirical estimate is in agreement with the theoretical expectation. We can estimate the value of $\\sigma_D$ for the asymptotic limit of $T\\rightarrow\\infty$:\n",
    "\n",
    "$$ \\sigma_D(0, T) \\approx P^M(0,T)e^{f^M(0,T)/a-\\sigma^2/(4a^3)}\\sqrt{e^{\\sigma^2T/a^2} - 1}$$\n",
    "\n",
    "The exponential term, $e^{\\sigma^2T/a^2}$,  can become very large when $\\sigma^2T/a^2$ grows above 1.\n",
    "Thus we can expect good convergence when  $\\sigma^2T/a^2$ remains small or close to zero for the \n",
    "time $T$ of interest to us.\n",
    "\n",
    "The above result suggests that if the parameters $\\sigma$ and $a$ are not chosen carefully, (i.e. $\\sigma/a >1$) then the convergence of the simulation would be poor and the results untrustworthy.\n"
   ]
  }
 ],
 "metadata": {
  "kernelspec": {
   "display_name": "Python 3",
   "language": "python",
   "name": "python3"
  },
  "language_info": {
   "codemirror_mode": {
    "name": "ipython",
    "version": 3
   },
   "file_extension": ".py",
   "mimetype": "text/x-python",
   "name": "python",
   "nbconvert_exporter": "python",
   "pygments_lexer": "ipython3",
   "version": "3.7.3"
  }
 },
 "nbformat": 4,
 "nbformat_minor": 2
}
