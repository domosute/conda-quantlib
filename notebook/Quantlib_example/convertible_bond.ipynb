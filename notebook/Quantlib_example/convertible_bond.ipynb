{
 "cells": [
  {
   "cell_type": "markdown",
   "metadata": {},
   "source": [
    "# Convertible Fixed Coupon Bond\n",
    "[Goutham Balaraman](http://gouthamanbalaraman.com)"
   ]
  },
  {
   "cell_type": "code",
   "execution_count": 1,
   "metadata": {},
   "outputs": [],
   "source": [
    "import QuantLib as ql"
   ]
  },
  {
   "cell_type": "markdown",
   "metadata": {},
   "source": [
    "In this blog I will work through an example of valuing convertible bonds in QuantLib. Lets start by doing the usual setup of creating a `calculation_date` and setting it as the `evaluationDate`."
   ]
  },
  {
   "cell_type": "code",
   "execution_count": 2,
   "metadata": {},
   "outputs": [],
   "source": [
    "calculation_date = ql.Date(9,1,2004)\n",
    "ql.Settings.instance().evaluationDate = calculation_date"
   ]
  },
  {
   "cell_type": "markdown",
   "metadata": {},
   "source": [
    "One little quirk in the QuantLib convertible bond implementation is that there are places where the redemption amount is hard coded to `100`. So if you have conversion ratio evaluated as \n",
    "\\begin{eqnarray}\n",
    "Conversion\\ Ratio = \\frac{Redemption\\ Amount}{Conversion\\ Price}\n",
    "\\end{eqnarray}\n",
    "\n",
    "you will need to scale to an appropriate value with a redemption amount of `100`. For instance, vendors report conversion ratio with a redemption amount of 1000. The conversion ratio obtained this way should be divided by a factor of `10` to get the equivalent conversion ratio for use in the QuantLib calculations. This is a limitation right now (as of version 1.7), which can be fixed in the future.\n",
    "\n",
    "Following is the details of the convertible bond of interest."
   ]
  },
  {
   "cell_type": "code",
   "execution_count": 3,
   "metadata": {},
   "outputs": [],
   "source": [
    "# St. Mary Land & Exploration Company \n",
    "# Bloomberg ticker: SM 5.75 03/15/22 \n",
    "\n",
    "redemption = 100.00\n",
    "face_amount = 100.0\n",
    "spot_price = 29.04\n",
    "conversion_price = 26.0\n",
    "conversion_ratio = 3.84615  # BBG quotes 38.4615; had to scale by a factor of 10\n",
    "\n",
    "issue_date = ql.Date(15,3,2002)        \n",
    "maturity_date = ql.Date(15,3,2022)\n",
    "\n",
    "settlement_days = 2\n",
    "calendar = ql.UnitedStates(ql.UnitedStates.GovernmentBond)\n",
    "coupon = 0.0575\n",
    "frequency = ql.Semiannual\n",
    "tenor = ql.Period(frequency)\n",
    "\n",
    "day_count = ql.Thirty360()\n",
    "accrual_convention = ql.Unadjusted\n",
    "payment_convention = ql.Unadjusted\n",
    "\n",
    "call_dates = [ql.Date(20,3,2007)]\n",
    "call_price = 100.0\n",
    "put_dates = [ql.Date(20,3,2007), ql.Date(15,3,2012), ql.Date(15,3,2017)]\n",
    "put_price = 100.0\n",
    "\n",
    "# assumptions\n",
    "dividend_yield = 0.02\n",
    "credit_spread_rate = 0.03  \n",
    "risk_free_rate = 0.04\n",
    "volatility = 0.40"
   ]
  },
  {
   "cell_type": "markdown",
   "metadata": {},
   "source": [
    "The call and put schedule for this bond is created as shown below. Here for each call date, we create a `CallabilityPrice`, then use that to form the `Callability` object. This is appended to the `CallabilitySchedule` object to form a list of call and put schedules."
   ]
  },
  {
   "cell_type": "code",
   "execution_count": 7,
   "metadata": {},
   "outputs": [],
   "source": [
    "callability_schedule = ql.CallabilitySchedule()\n",
    "\n",
    "\n",
    "for call_date in call_dates:\n",
    "   callability_price  = ql.BondPrice(call_price, \n",
    "                                            ql.BondPrice.Clean)\n",
    "   callability_schedule.append(ql.Callability(callability_price, \n",
    "                                       ql.Callability.Call,\n",
    "                                       call_date)\n",
    "                        )\n",
    "    \n",
    "for put_date in put_dates:\n",
    "    puttability_price = ql.BondPrice(put_price, \n",
    "                                            ql.BondPrice.Clean)\n",
    "    callability_schedule.append(ql.Callability(puttability_price,\n",
    "                                               ql.Callability.Put,\n",
    "                                               put_date))"
   ]
  },
  {
   "cell_type": "markdown",
   "metadata": {},
   "source": [
    "Any dividend information for the underlying stock is used to form the `DividendSchedule`."
   ]
  },
  {
   "cell_type": "code",
   "execution_count": 8,
   "metadata": {},
   "outputs": [],
   "source": [
    "dividend_schedule = ql.DividendSchedule() # No dividends\n",
    "dividend_amount = dividend_yield*spot_price\n",
    "next_dividend_date = ql.Date(1,12,2004)\n",
    "dividend_amount = spot_price*dividend_yield\n",
    "for i in range(4):\n",
    "    date = calendar.advance(next_dividend_date, 1, ql.Years)\n",
    "    dividend_schedule.append(\n",
    "        ql.FixedDividend(dividend_amount, date)\n",
    "    )\n"
   ]
  },
  {
   "cell_type": "markdown",
   "metadata": {},
   "source": [
    "Now we bulid the fixed coupon convertible bond object"
   ]
  },
  {
   "cell_type": "code",
   "execution_count": 9,
   "metadata": {},
   "outputs": [
    {
     "ename": "TypeError",
     "evalue": "Wrong number or type of arguments for overloaded function 'new_ConvertibleFixedCouponBond'.\n  Possible C/C++ prototypes are:\n    ConvertibleFixedCouponBond::ConvertibleFixedCouponBond(ext::shared_ptr< Exercise > const &,Real,std::vector< ext::shared_ptr< Callability >,std::allocator< ext::shared_ptr< Callability > > > const &,Date const &,Integer,std::vector< Rate,std::allocator< Rate > > const &,DayCounter const &,Schedule const &,Real,Period const &,Calendar const &,BusinessDayConvention const,bool)\n    ConvertibleFixedCouponBond::ConvertibleFixedCouponBond(ext::shared_ptr< Exercise > const &,Real,std::vector< ext::shared_ptr< Callability >,std::allocator< ext::shared_ptr< Callability > > > const &,Date const &,Integer,std::vector< Rate,std::allocator< Rate > > const &,DayCounter const &,Schedule const &,Real,Period const &,Calendar const &,BusinessDayConvention const)\n    ConvertibleFixedCouponBond::ConvertibleFixedCouponBond(ext::shared_ptr< Exercise > const &,Real,std::vector< ext::shared_ptr< Callability >,std::allocator< ext::shared_ptr< Callability > > > const &,Date const &,Integer,std::vector< Rate,std::allocator< Rate > > const &,DayCounter const &,Schedule const &,Real,Period const &,Calendar const &)\n    ConvertibleFixedCouponBond::ConvertibleFixedCouponBond(ext::shared_ptr< Exercise > const &,Real,std::vector< ext::shared_ptr< Callability >,std::allocator< ext::shared_ptr< Callability > > > const &,Date const &,Integer,std::vector< Rate,std::allocator< Rate > > const &,DayCounter const &,Schedule const &,Real,Period const &)\n    ConvertibleFixedCouponBond::ConvertibleFixedCouponBond(ext::shared_ptr< Exercise > const &,Real,std::vector< ext::shared_ptr< Callability >,std::allocator< ext::shared_ptr< Callability > > > const &,Date const &,Integer,std::vector< Rate,std::allocator< Rate > > const &,DayCounter const &,Schedule const &,Real)\n    ConvertibleFixedCouponBond::ConvertibleFixedCouponBond(ext::shared_ptr< Exercise > const &,Real,std::vector< ext::shared_ptr< Callability >,std::allocator< ext::shared_ptr< Callability > > > const &,Date const &,Integer,std::vector< Rate,std::allocator< Rate > > const &,DayCounter const &,Schedule const &)\n",
     "output_type": "error",
     "traceback": [
      "\u001b[0;31m---------------------------------------------------------------------------\u001b[0m",
      "\u001b[0;31mTypeError\u001b[0m                                 Traceback (most recent call last)",
      "Input \u001b[0;32mIn [9]\u001b[0m, in \u001b[0;36m<cell line: 8>\u001b[0;34m()\u001b[0m\n\u001b[1;32m      5\u001b[0m credit_spread_handle \u001b[38;5;241m=\u001b[39m ql\u001b[38;5;241m.\u001b[39mQuoteHandle(ql\u001b[38;5;241m.\u001b[39mSimpleQuote(credit_spread_rate))\n\u001b[1;32m      6\u001b[0m exercise \u001b[38;5;241m=\u001b[39m ql\u001b[38;5;241m.\u001b[39mAmericanExercise(calculation_date, maturity_date)\n\u001b[0;32m----> 8\u001b[0m convertible_bond \u001b[38;5;241m=\u001b[39m \u001b[43mql\u001b[49m\u001b[38;5;241;43m.\u001b[39;49m\u001b[43mConvertibleFixedCouponBond\u001b[49m\u001b[43m(\u001b[49m\u001b[43mexercise\u001b[49m\u001b[43m,\u001b[49m\n\u001b[1;32m      9\u001b[0m \u001b[43m                                                 \u001b[49m\u001b[43mconversion_ratio\u001b[49m\u001b[43m,\u001b[49m\n\u001b[1;32m     10\u001b[0m \u001b[43m                                                 \u001b[49m\u001b[43mdividend_schedule\u001b[49m\u001b[43m,\u001b[49m\n\u001b[1;32m     11\u001b[0m \u001b[43m                                                 \u001b[49m\u001b[43mcallability_schedule\u001b[49m\u001b[43m,\u001b[49m\u001b[43m \u001b[49m\n\u001b[1;32m     12\u001b[0m \u001b[43m                                                 \u001b[49m\u001b[43mcredit_spread_handle\u001b[49m\u001b[43m,\u001b[49m\n\u001b[1;32m     13\u001b[0m \u001b[43m                                                 \u001b[49m\u001b[43missue_date\u001b[49m\u001b[43m,\u001b[49m\n\u001b[1;32m     14\u001b[0m \u001b[43m                                                 \u001b[49m\u001b[43msettlement_days\u001b[49m\u001b[43m,\u001b[49m\n\u001b[1;32m     15\u001b[0m \u001b[43m                                                 \u001b[49m\u001b[43m[\u001b[49m\u001b[43mcoupon\u001b[49m\u001b[43m]\u001b[49m\u001b[43m,\u001b[49m\n\u001b[1;32m     16\u001b[0m \u001b[43m                                                 \u001b[49m\u001b[43mday_count\u001b[49m\u001b[43m,\u001b[49m\n\u001b[1;32m     17\u001b[0m \u001b[43m                                                 \u001b[49m\u001b[43mschedule\u001b[49m\u001b[43m,\u001b[49m\n\u001b[1;32m     18\u001b[0m \u001b[43m                                                 \u001b[49m\u001b[43mredemption\u001b[49m\u001b[43m)\u001b[49m\n",
      "File \u001b[0;32m/opt/conda/lib/python3.9/site-packages/QuantLib/QuantLib.py:18698\u001b[0m, in \u001b[0;36mConvertibleFixedCouponBond.__init__\u001b[0;34m(self, *args)\u001b[0m\n\u001b[1;32m  18697\u001b[0m \u001b[38;5;28;01mdef\u001b[39;00m \u001b[38;5;21m__init__\u001b[39m(\u001b[38;5;28mself\u001b[39m, \u001b[38;5;241m*\u001b[39margs):\n\u001b[0;32m> 18698\u001b[0m     _QuantLib\u001b[38;5;241m.\u001b[39mConvertibleFixedCouponBond_swiginit(\u001b[38;5;28mself\u001b[39m, \u001b[43m_QuantLib\u001b[49m\u001b[38;5;241;43m.\u001b[39;49m\u001b[43mnew_ConvertibleFixedCouponBond\u001b[49m\u001b[43m(\u001b[49m\u001b[38;5;241;43m*\u001b[39;49m\u001b[43margs\u001b[49m\u001b[43m)\u001b[49m)\n",
      "\u001b[0;31mTypeError\u001b[0m: Wrong number or type of arguments for overloaded function 'new_ConvertibleFixedCouponBond'.\n  Possible C/C++ prototypes are:\n    ConvertibleFixedCouponBond::ConvertibleFixedCouponBond(ext::shared_ptr< Exercise > const &,Real,std::vector< ext::shared_ptr< Callability >,std::allocator< ext::shared_ptr< Callability > > > const &,Date const &,Integer,std::vector< Rate,std::allocator< Rate > > const &,DayCounter const &,Schedule const &,Real,Period const &,Calendar const &,BusinessDayConvention const,bool)\n    ConvertibleFixedCouponBond::ConvertibleFixedCouponBond(ext::shared_ptr< Exercise > const &,Real,std::vector< ext::shared_ptr< Callability >,std::allocator< ext::shared_ptr< Callability > > > const &,Date const &,Integer,std::vector< Rate,std::allocator< Rate > > const &,DayCounter const &,Schedule const &,Real,Period const &,Calendar const &,BusinessDayConvention const)\n    ConvertibleFixedCouponBond::ConvertibleFixedCouponBond(ext::shared_ptr< Exercise > const &,Real,std::vector< ext::shared_ptr< Callability >,std::allocator< ext::shared_ptr< Callability > > > const &,Date const &,Integer,std::vector< Rate,std::allocator< Rate > > const &,DayCounter const &,Schedule const &,Real,Period const &,Calendar const &)\n    ConvertibleFixedCouponBond::ConvertibleFixedCouponBond(ext::shared_ptr< Exercise > const &,Real,std::vector< ext::shared_ptr< Callability >,std::allocator< ext::shared_ptr< Callability > > > const &,Date const &,Integer,std::vector< Rate,std::allocator< Rate > > const &,DayCounter const &,Schedule const &,Real,Period const &)\n    ConvertibleFixedCouponBond::ConvertibleFixedCouponBond(ext::shared_ptr< Exercise > const &,Real,std::vector< ext::shared_ptr< Callability >,std::allocator< ext::shared_ptr< Callability > > > const &,Date const &,Integer,std::vector< Rate,std::allocator< Rate > > const &,DayCounter const &,Schedule const &,Real)\n    ConvertibleFixedCouponBond::ConvertibleFixedCouponBond(ext::shared_ptr< Exercise > const &,Real,std::vector< ext::shared_ptr< Callability >,std::allocator< ext::shared_ptr< Callability > > > const &,Date const &,Integer,std::vector< Rate,std::allocator< Rate > > const &,DayCounter const &,Schedule const &)\n"
     ]
    }
   ],
   "source": [
    "schedule = ql.Schedule(issue_date, maturity_date, tenor,\n",
    "                       calendar, accrual_convention, accrual_convention,\n",
    "                       ql.DateGeneration.Backward, False)\n",
    "\n",
    "credit_spread_handle = ql.QuoteHandle(ql.SimpleQuote(credit_spread_rate))\n",
    "exercise = ql.AmericanExercise(calculation_date, maturity_date)\n",
    "\n",
    "convertible_bond = ql.ConvertibleFixedCouponBond(exercise,\n",
    "                                                 conversion_ratio,\n",
    "                                                 dividend_schedule,\n",
    "                                                 callability_schedule, \n",
    "                                                 credit_spread_handle,\n",
    "                                                 issue_date,\n",
    "                                                 settlement_days,\n",
    "                                                 [coupon],\n",
    "                                                 day_count,\n",
    "                                                 schedule,\n",
    "                                                 redemption)"
   ]
  },
  {
   "cell_type": "markdown",
   "metadata": {},
   "source": [
    "Build the Black-Scholes-Merton process to model the equity part"
   ]
  },
  {
   "cell_type": "code",
   "execution_count": null,
   "metadata": {},
   "outputs": [],
   "source": [
    "\n",
    "\n",
    "\n",
    "spot_price_handle = ql.QuoteHandle(ql.SimpleQuote(spot_price))\n",
    "yield_ts_handle = ql.YieldTermStructureHandle(\n",
    "    ql.FlatForward(calculation_date, risk_free_rate, day_count)\n",
    ")\n",
    "dividend_ts_handle = ql.YieldTermStructureHandle(\n",
    "    ql.FlatForward(calculation_date, dividend_yield, day_count)\n",
    ")\n",
    "volatility_ts_handle = ql.BlackVolTermStructureHandle(\n",
    "    ql.BlackConstantVol(calculation_date, calendar,volatility, day_count)\n",
    ")\n",
    "\n",
    "bsm_process = ql.BlackScholesMertonProcess(spot_price_handle, \n",
    "                                           dividend_ts_handle,\n",
    "                                           yield_ts_handle,\n",
    "                                           volatility_ts_handle)\n"
   ]
  },
  {
   "cell_type": "markdown",
   "metadata": {},
   "source": [
    "Build the convertible bond pricing engine"
   ]
  },
  {
   "cell_type": "code",
   "execution_count": 10,
   "metadata": {},
   "outputs": [
    {
     "ename": "NameError",
     "evalue": "name 'bsm_process' is not defined",
     "output_type": "error",
     "traceback": [
      "\u001b[0;31m---------------------------------------------------------------------------\u001b[0m",
      "\u001b[0;31mNameError\u001b[0m                                 Traceback (most recent call last)",
      "Input \u001b[0;32mIn [10]\u001b[0m, in \u001b[0;36m<cell line: 2>\u001b[0;34m()\u001b[0m\n\u001b[1;32m      1\u001b[0m time_steps \u001b[38;5;241m=\u001b[39m \u001b[38;5;241m1000\u001b[39m\n\u001b[0;32m----> 2\u001b[0m engine \u001b[38;5;241m=\u001b[39m ql\u001b[38;5;241m.\u001b[39mBinomialConvertibleEngine(\u001b[43mbsm_process\u001b[49m, \u001b[38;5;124m\"\u001b[39m\u001b[38;5;124mcrr\u001b[39m\u001b[38;5;124m\"\u001b[39m, time_steps)\n",
      "\u001b[0;31mNameError\u001b[0m: name 'bsm_process' is not defined"
     ]
    }
   ],
   "source": [
    "time_steps = 1000\n",
    "engine = ql.BinomialConvertibleEngine(bsm_process, \"crr\", time_steps)"
   ]
  },
  {
   "cell_type": "markdown",
   "metadata": {},
   "source": [
    "Price the bond"
   ]
  },
  {
   "cell_type": "code",
   "execution_count": null,
   "metadata": {},
   "outputs": [],
   "source": [
    "convertible_bond.setPricingEngine(engine)\n",
    "print(\"NPV \", convertible_bond.NPV())"
   ]
  }
 ],
 "metadata": {
  "kernelspec": {
   "display_name": "Python 3 (ipykernel)",
   "language": "python",
   "name": "python3"
  },
  "language_info": {
   "codemirror_mode": {
    "name": "ipython",
    "version": 3
   },
   "file_extension": ".py",
   "mimetype": "text/x-python",
   "name": "python",
   "nbconvert_exporter": "python",
   "pygments_lexer": "ipython3",
   "version": "3.9.12"
  }
 },
 "nbformat": 4,
 "nbformat_minor": 4
}
