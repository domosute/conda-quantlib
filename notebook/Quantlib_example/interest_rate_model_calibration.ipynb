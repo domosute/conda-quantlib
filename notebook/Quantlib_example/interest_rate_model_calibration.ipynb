{
 "cells": [
  {
   "cell_type": "markdown",
   "metadata": {},
   "source": [
    "# Short Interest Rate Model Calibration\n",
    "[Goutham Balaraman](http://gouthamanbalaraman.com)"
   ]
  },
  {
   "cell_type": "markdown",
   "metadata": {},
   "source": [
    "I have talked about Hull-White model in my earlier blog posts. The focus of those posts was to see how to use the model classes. The model parameters were assumed to be given. However in practice, the model parameters need to calibrated from market data. Typically instruments such as swaptions, caps or floors and their market prices / volatilities are taken as inputs. Then the model parameters are fit in such a way that the model prices these options close enough. The goodness of fit depends, apart from the choice of the numerical methods, on the type of model itself. This is because models such as Hull-White 1 factor cannot fit some of the humped volatility term structures observed in the market. Never the less, Hull-White is usually a good starting point to understand calibration process.\n",
    "\n",
    "Here we will discuss Hull-White model in detail. Then we will also show how the same procedure can be applied to calibrate other short rate models."
   ]
  },
  {
   "cell_type": "code",
   "execution_count": 1,
   "metadata": {},
   "outputs": [],
   "source": [
    "import QuantLib as ql\n",
    "from collections import namedtuple\n",
    "import math"
   ]
  },
  {
   "cell_type": "markdown",
   "metadata": {},
   "source": [
    "## Hull-White 1 Factor Model \n",
    "\n",
    "Hull-White model was one of the first practical exogenous models that attempted to fit to the market interest rate term structures. The model is described as:\n",
    "\n",
    "\\begin{equation}\n",
    "dr_t = (\\theta(t) - a r_t) dt + \\sigma dW_t\n",
    "\\end{equation}\n",
    "\n",
    "where $a$ is the mean reversion constant, $\\sigma$ is the volatility parameter. The parameter $\\theta(t)$ is chosen in order to fit the input term structure of interest rates. \n",
    "\n",
    "What is the \"right\" value for parameters $a$ and $\\sigma$? This is the question that we address by calibrating to market instruments."
   ]
  },
  {
   "cell_type": "code",
   "execution_count": 2,
   "metadata": {},
   "outputs": [],
   "source": [
    "today = ql.Date(15, ql.February, 2002);\n",
    "settlement= ql.Date(19, ql.February, 2002);\n",
    "ql.Settings.instance().evaluationDate = today;\n",
    "term_structure = ql.YieldTermStructureHandle(\n",
    "    ql.FlatForward(settlement,0.04875825,ql.Actual365Fixed())\n",
    "    )\n",
    "index = ql.Euribor1Y(term_structure)"
   ]
  },
  {
   "cell_type": "markdown",
   "metadata": {},
   "source": [
    "In this example we are going to calibrate to the swaption volatilities as shown below. "
   ]
  },
  {
   "cell_type": "code",
   "execution_count": 3,
   "metadata": {},
   "outputs": [],
   "source": [
    "CalibrationData = namedtuple(\"CalibrationData\", \n",
    "                             \"start, length, volatility\")\n",
    "data = [CalibrationData(1, 5, 0.1148),\n",
    "        CalibrationData(2, 4, 0.1108),\n",
    "        CalibrationData(3, 3, 0.1070),\n",
    "        CalibrationData(4, 2, 0.1021),\n",
    "        CalibrationData(5, 1, 0.1000 )]"
   ]
  },
  {
   "cell_type": "code",
   "execution_count": 4,
   "metadata": {},
   "outputs": [],
   "source": [
    "# <!-- collapse=True -->\n",
    "def create_swaption_helpers(data, index, term_structure, engine):\n",
    "    swaptions = []\n",
    "    fixed_leg_tenor = ql.Period(1, ql.Years)\n",
    "    fixed_leg_daycounter = ql.Actual360()\n",
    "    floating_leg_daycounter = ql.Actual360()\n",
    "    for d in data:\n",
    "        vol_handle = ql.QuoteHandle(ql.SimpleQuote(d.volatility))\n",
    "        helper = ql.SwaptionHelper(ql.Period(d.start, ql.Years),\n",
    "                                   ql.Period(d.length, ql.Years),\n",
    "                                   vol_handle,\n",
    "                                   index,\n",
    "                                   fixed_leg_tenor,\n",
    "                                   fixed_leg_daycounter,\n",
    "                                   floating_leg_daycounter,\n",
    "                                   term_structure\n",
    "                                   )\n",
    "        helper.setPricingEngine(engine)\n",
    "        swaptions.append(helper)\n",
    "    return swaptions    \n",
    "\n",
    "def calibration_report(swaptions, data):\n",
    "    print \"-\"*82\n",
    "    print \"%15s %15s %15s %15s %15s\" % \\\n",
    "    (\"Model Price\", \"Market Price\", \"Implied Vol\", \"Market Vol\", \"Rel Error\")\n",
    "    print \"-\"*82\n",
    "    cum_err = 0.0\n",
    "    for i, s in enumerate(swaptions):\n",
    "        model_price = s.modelValue()\n",
    "        market_vol = data[i].volatility\n",
    "        black_price = s.blackPrice(market_vol)\n",
    "        rel_error = model_price/black_price - 1.0\n",
    "        implied_vol = s.impliedVolatility(model_price,\n",
    "                                          1e-5, 50, 0.0, 0.50)\n",
    "        rel_error2 = implied_vol/market_vol-1.0\n",
    "        cum_err += rel_error2*rel_error2\n",
    "        \n",
    "        print \"%15.5f %15.5f %15.5f %15.5f %15.5f\" % \\\n",
    "        (model_price, black_price, implied_vol, market_vol, rel_error)\n",
    "    print \"-\"*82\n",
    "    print \"Cumulative Error : %15.5f\" % math.sqrt(cum_err)"
   ]
  },
  {
   "cell_type": "markdown",
   "metadata": {},
   "source": [
    "### Calibrating Reversion and Volaitility\n",
    "\n",
    "Here we use the `JamshidianSwaptionEngine` to value the swaptions as part of calibration. The `JamshidianSwaptionEngine` requires one-factor affine models as input. For other interest rate models, we need a pricing engine that is more suited to those models."
   ]
  },
  {
   "cell_type": "code",
   "execution_count": 5,
   "metadata": {},
   "outputs": [
    {
     "name": "stdout",
     "output_type": "stream",
     "text": [
      "a = 0.04642, sigma = 0.00580\n"
     ]
    }
   ],
   "source": [
    "model = ql.HullWhite(term_structure);\n",
    "engine = ql.JamshidianSwaptionEngine(model)\n",
    "swaptions = create_swaption_helpers(data, index, term_structure, engine)\n",
    "\n",
    "optimization_method = ql.LevenbergMarquardt(1.0e-8,1.0e-8,1.0e-8)\n",
    "end_criteria = ql.EndCriteria(10000, 100, 1e-6, 1e-8, 1e-8)\n",
    "model.calibrate(swaptions, optimization_method, end_criteria)\n",
    "\n",
    "a, sigma = model.params()\n",
    "print \"a = %6.5f, sigma = %6.5f\" % (a, sigma)"
   ]
  },
  {
   "cell_type": "code",
   "execution_count": 6,
   "metadata": {},
   "outputs": [
    {
     "name": "stdout",
     "output_type": "stream",
     "text": [
      "----------------------------------------------------------------------------------\n",
      "    Model Price    Market Price     Implied Vol      Market Vol       Rel Error\n",
      "----------------------------------------------------------------------------------\n",
      "        0.00878         0.00949         0.10620         0.11480        -0.07485\n",
      "        0.00967         0.01008         0.10629         0.11080        -0.04061\n",
      "        0.00866         0.00872         0.10634         0.10700        -0.00614\n",
      "        0.00649         0.00623         0.10644         0.10210         0.04237\n",
      "        0.00354         0.00332         0.10661         0.10000         0.06582\n",
      "----------------------------------------------------------------------------------\n",
      "Cumulative Error :         0.11614\n"
     ]
    }
   ],
   "source": [
    "\n",
    "calibration_report(swaptions, data)"
   ]
  },
  {
   "cell_type": "code",
   "execution_count": 7,
   "metadata": {},
   "outputs": [
    {
     "name": "stdout",
     "output_type": "stream",
     "text": [
      "a = 0.04642, sigma = 0.00580\n",
      "----------------------------------------------------------------------------------\n",
      "    Model Price    Market Price     Implied Vol      Market Vol       Rel Error\n",
      "----------------------------------------------------------------------------------\n",
      "        0.00878         0.00949         0.10620         0.11480        -0.07485\n",
      "        0.00967         0.01008         0.10629         0.11080        -0.04061\n",
      "        0.00866         0.00872         0.10634         0.10700        -0.00614\n",
      "        0.00649         0.00623         0.10644         0.10210         0.04237\n",
      "        0.00354         0.00332         0.10661         0.10000         0.06582\n",
      "----------------------------------------------------------------------------------\n",
      "Cumulative Error :         0.11614\n"
     ]
    }
   ],
   "source": [
    "model = ql.HullWhite(term_structure);\n",
    "engine = ql.JamshidianSwaptionEngine(model)\n",
    "swaptions = create_swaption_helpers(data, index, term_structure, engine)\n",
    "\n",
    "optimization_method = ql.LevenbergMarquardt(1.0e-8,1.0e-8,1.0e-8)\n",
    "end_criteria = ql.EndCriteria(10000, 100, 1e-6, 1e-8, 1e-8)\n",
    "model.calibrate(swaptions, optimization_method, end_criteria)\n",
    "\n",
    "a, sigma = model.params()\n",
    "print \"a = %6.5f, sigma = %6.5f\" % (a, sigma)\n",
    "calibration_report(swaptions, data)"
   ]
  },
  {
   "cell_type": "markdown",
   "metadata": {},
   "source": [
    "### Calibrating Volatility With Fixed Reversion\n",
    "\n",
    "Some times we need to calibrate with one parameter held fixed. This can be done in the QuantLib libraries. However, this ability is not exposed in the SWIG wrappers as of version 1.6. I have created a [github issue](https://github.com/lballabio/quantlib/issues/336) and provided a patch to address this issue. You will need this patch to execute the following cells. Below, the model is calibrated with a fixed reversion value of 5%."
   ]
  },
  {
   "cell_type": "code",
   "execution_count": 8,
   "metadata": {},
   "outputs": [
    {
     "name": "stdout",
     "output_type": "stream",
     "text": [
      "a = 0.05000, sigma = 0.00586\n"
     ]
    }
   ],
   "source": [
    "constrained_model = ql.HullWhite(term_structure, 0.05, 0.001);\n",
    "engine = ql.JamshidianSwaptionEngine(constrained_model)\n",
    "swaptions = create_swaption_helpers(data, index, term_structure, engine)\n",
    "\n",
    "optimization_method = ql.LevenbergMarquardt(1.0e-8,1.0e-8,1.0e-8)\n",
    "end_criteria = ql.EndCriteria(10000, 100, 1e-6, 1e-8, 1e-8)\n",
    "constrained_model.calibrate(swaptions, optimization_method, end_criteria, ql.NoConstraint(), [], [True, False])\n",
    "\n",
    "a, sigma = constrained_model.params()\n",
    "print \"a = %6.5f, sigma = %6.5f\" % (a, sigma)"
   ]
  },
  {
   "cell_type": "code",
   "execution_count": 9,
   "metadata": {},
   "outputs": [
    {
     "name": "stdout",
     "output_type": "stream",
     "text": [
      "----------------------------------------------------------------------------------\n",
      "    Model Price    Market Price     Implied Vol      Market Vol       Rel Error\n",
      "----------------------------------------------------------------------------------\n",
      "        0.00878         0.00949         0.10621         0.11480        -0.07474\n",
      "        0.00967         0.01008         0.10628         0.11080        -0.04068\n",
      "        0.00866         0.00872         0.10633         0.10700        -0.00626\n",
      "        0.00649         0.00623         0.10644         0.10210         0.04231\n",
      "        0.00354         0.00332         0.10663         0.10000         0.06595\n",
      "----------------------------------------------------------------------------------\n",
      "Cumulative Error :         0.11615\n"
     ]
    }
   ],
   "source": [
    "calibration_report(swaptions, data)"
   ]
  },
  {
   "cell_type": "markdown",
   "metadata": {},
   "source": [
    "## Black Karasinski Model\n",
    "\n",
    "The Black Karasinski model is described as:\n",
    "\n",
    "\\begin{equation}\n",
    "d\\ln(r_t) = (\\theta_t - a \\ln(r_t)) dt + \\sigma dW_t\n",
    "\\end{equation}\n",
    "\n",
    "In order to calibrate, we use the `TreeSwaptionEngine` which will work with all short rate models. The calibration is shown below. "
   ]
  },
  {
   "cell_type": "code",
   "execution_count": 10,
   "metadata": {},
   "outputs": [
    {
     "name": "stdout",
     "output_type": "stream",
     "text": [
      "a = 0.03902, sigma = 0.11695\n"
     ]
    }
   ],
   "source": [
    "model = ql.BlackKarasinski(term_structure);\n",
    "engine = ql.TreeSwaptionEngine(model, 100)\n",
    "swaptions = create_swaption_helpers(data, index, term_structure, engine)\n",
    "\n",
    "optimization_method = ql.LevenbergMarquardt(1.0e-8,1.0e-8,1.0e-8)\n",
    "end_criteria = ql.EndCriteria(10000, 100, 1e-6, 1e-8, 1e-8)\n",
    "model.calibrate(swaptions, optimization_method, end_criteria)\n",
    "\n",
    "a, sigma =  model.params()\n",
    "print \"a = %6.5f, sigma = %6.5f\" % (a, sigma)"
   ]
  },
  {
   "cell_type": "code",
   "execution_count": 11,
   "metadata": {},
   "outputs": [
    {
     "name": "stdout",
     "output_type": "stream",
     "text": [
      "----------------------------------------------------------------------------------\n",
      "    Model Price    Market Price     Implied Vol      Market Vol       Rel Error\n",
      "----------------------------------------------------------------------------------\n",
      "        0.00872         0.00949         0.10550         0.11480        -0.08095\n",
      "        0.00967         0.01008         0.10631         0.11080        -0.04045\n",
      "        0.00868         0.00872         0.10654         0.10700        -0.00430\n",
      "        0.00650         0.00623         0.10666         0.10210         0.04446\n",
      "        0.00355         0.00332         0.10676         0.10000         0.06733\n",
      "----------------------------------------------------------------------------------\n",
      "Cumulative Error :         0.12163\n"
     ]
    }
   ],
   "source": [
    "calibration_report(swaptions, data)"
   ]
  },
  {
   "cell_type": "markdown",
   "metadata": {},
   "source": [
    "## G2++ Model\n",
    "\n",
    "As a final example, let us look at a calibration example of the 2-factor G2++ model.\n",
    "\\begin{equation}\n",
    "dr_t = \\varphi(t) + x_t + y_t\n",
    "\\end{equation}\n",
    "    \n",
    "where $ x_t $ and $ y_t $ are defined by\n",
    " \n",
    "\\begin{eqnarray}\n",
    "dx_t &=& -a x_t dt + \\sigma dW^1_t\\nonumber \\\\\n",
    "dy_t &=& -b y_t dt + \\eta dW^2_t \\nonumber \\\\\n",
    "\\left<dW^1_t dW^2_t\\right> &=& \\rho dt \n",
    "\\end{eqnarray}\n",
    "\n",
    "Once again, we use the `TreeSwaptionEngine` to value the swaptions in the calibration step. "
   ]
  },
  {
   "cell_type": "code",
   "execution_count": 12,
   "metadata": {},
   "outputs": [
    {
     "name": "stdout",
     "output_type": "stream",
     "text": [
      "a = 0.04050, sigma = 0.00474, b = 0.04438, eta = 0.00301, rho = 0.03541 \n"
     ]
    }
   ],
   "source": [
    "model = ql.G2(term_structure);\n",
    "engine = ql.TreeSwaptionEngine(model, 25)\n",
    "# engine = ql.G2SwaptionEngine(model, 10, 400)\n",
    "# engine = ql.FdG2SwaptionEngine(model)\n",
    "swaptions = create_swaption_helpers(data, index, term_structure, engine)\n",
    "\n",
    "optimization_method = ql.LevenbergMarquardt(1.0e-8,1.0e-8,1.0e-8)\n",
    "end_criteria = ql.EndCriteria(1000, 100, 1e-6, 1e-8, 1e-8)\n",
    "model.calibrate(swaptions, optimization_method, end_criteria)\n",
    "\n",
    "a, sigma, b, eta, rho = model.params()\n",
    "print \"a = %6.5f, sigma = %6.5f, b = %6.5f, eta = %6.5f, rho = %6.5f \" % (a, sigma, b, eta, rho)"
   ]
  },
  {
   "cell_type": "code",
   "execution_count": 13,
   "metadata": {},
   "outputs": [
    {
     "name": "stdout",
     "output_type": "stream",
     "text": [
      "----------------------------------------------------------------------------------\n",
      "    Model Price    Market Price     Implied Vol      Market Vol       Rel Error\n",
      "----------------------------------------------------------------------------------\n",
      "        0.00870         0.00949         0.10535         0.11480        -0.08228\n",
      "        0.00967         0.01008         0.10633         0.11080        -0.04029\n",
      "        0.00868         0.00872         0.10651         0.10700        -0.00456\n",
      "        0.00650         0.00623         0.10665         0.10210         0.04438\n",
      "        0.00355         0.00332         0.10680         0.10000         0.06770\n",
      "----------------------------------------------------------------------------------\n",
      "Cumulative Error :         0.12265\n"
     ]
    }
   ],
   "source": [
    "calibration_report(swaptions, data)"
   ]
  },
  {
   "cell_type": "markdown",
   "metadata": {},
   "source": [
    "## Conclusion\n",
    "\n",
    "In this post, we saw some simple examples of calibrating the model to the swaption volatilities. "
   ]
  },
  {
   "cell_type": "code",
   "execution_count": null,
   "metadata": {},
   "outputs": [],
   "source": []
  },
  {
   "cell_type": "code",
   "execution_count": null,
   "metadata": {},
   "outputs": [],
   "source": []
  },
  {
   "cell_type": "code",
   "execution_count": null,
   "metadata": {},
   "outputs": [],
   "source": []
  }
 ],
 "metadata": {
  "kernelspec": {
   "display_name": "Python 3",
   "language": "python",
   "name": "python3"
  },
  "language_info": {
   "codemirror_mode": {
    "name": "ipython",
    "version": 3
   },
   "file_extension": ".py",
   "mimetype": "text/x-python",
   "name": "python",
   "nbconvert_exporter": "python",
   "pygments_lexer": "ipython3",
   "version": "3.7.3"
  }
 },
 "nbformat": 4,
 "nbformat_minor": 2
}
